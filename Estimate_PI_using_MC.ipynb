{
  "nbformat": 4,
  "nbformat_minor": 0,
  "metadata": {
    "colab": {
      "provenance": [],
      "authorship_tag": "ABX9TyP4V5gk5m7L5bvvOQcalWtI",
      "include_colab_link": true
    },
    "kernelspec": {
      "name": "python3",
      "display_name": "Python 3"
    },
    "language_info": {
      "name": "python"
    }
  },
  "cells": [
    {
      "cell_type": "markdown",
      "metadata": {
        "id": "view-in-github",
        "colab_type": "text"
      },
      "source": [
        "<a href=\"https://colab.research.google.com/github/port-four/stats-python/blob/main/Estimate_PI_using_MC.ipynb\" target=\"_parent\"><img src=\"https://colab.research.google.com/assets/colab-badge.svg\" alt=\"Open In Colab\"/></a>"
      ]
    },
    {
      "cell_type": "markdown",
      "source": [
        "###Import Libraries"
      ],
      "metadata": {
        "id": "4mb9N-QAVf9a"
      }
    },
    {
      "cell_type": "markdown",
      "source": [
        "### Create samples"
      ],
      "metadata": {
        "id": "NtVFQ9ugVoMy"
      }
    },
    {
      "cell_type": "code",
      "source": [
        "import numpy as np\n",
        "import matplotlib.pyplot as plt\n",
        "\n",
        "\n",
        "def plot_construction():\n",
        "    fig, axis = plt.subplots(1, 2, figsize=(10, 5))\n",
        "\n",
        "    # Generated Dots\n",
        "    axis[0].set_title('Random Generated Dots')\n",
        "    axis[0].set_aspect('equal')\n",
        "    axis[0].set_xlim([-1, 1])\n",
        "    axis[0].set_ylim([-1, 1])\n",
        "\n",
        "    # Plot of Approximation\n",
        "    axis[1].set_title('Approximating π ~')\n",
        "    axis[1].set_xlim([0, 1000])\n",
        "    axis[1].set_ylim([0, 10])\n",
        "    axis[1].grid()\n",
        "\n",
        "    return axis\n",
        "\n",
        "axis = plot_construction()\n",
        "\n",
        "N_samples = np.arange(1, 100_000)\n",
        "pi_counter = 0\n",
        "\n",
        "dots_x = []\n",
        "dots_y = []\n",
        "\n",
        "dots_color = []\n",
        "pi_array = []\n",
        "\n",
        "scatter = axis[0].scatter(dots_x, dots_y, color=dots_color, marker='o', s=5)\n",
        "plot, = axis[1].plot([], pi_array, 'black')\n",
        "\n",
        "for N in N_samples:\n",
        "\n",
        "    x = np.random.uniform(-1, 1)\n",
        "    y = np.random.uniform(-1, 1)\n",
        "\n",
        "    dots_x.append(x)\n",
        "    dots_y.append(y)\n",
        "\n",
        "    if np.sqrt(x**2+y**2) <= 1:\n",
        "        pi_counter += 1\n",
        "        dots_color.append('red')\n",
        "\n",
        "    else:\n",
        "        dots_color.append('blue')\n",
        "\n",
        "    probability = pi_counter/N\n",
        "    approx_pi = 4*probability\n",
        "\n",
        "    pi_array.append(approx_pi)\n",
        "\n",
        "    # Updating the plots\n",
        "    if N%100 == 0:\n",
        "        scatter.set_offsets(np.column_stack((dots_x, dots_y)))\n",
        "        scatter.set_facecolors(dots_color)\n",
        "        axis[0].set_title(f\"Red Dots: {pi_counter}, Blue Dots:{N-pi_counter}\")\n",
        "\n",
        "        plot.set_data(range(1, N+1), pi_array)\n",
        "        plot.set_color('black')\n",
        "\n",
        "        if N%2000 == 0:\n",
        "            axis[1].set_xlim([0, N+2000])\n",
        "            axis[1].set_ylim([approx_pi-1/approx_pi, approx_pi+1/approx_pi])\n",
        "            axis[1].set_title(f'Approximating π ~ {approx_pi:.5f}')\n",
        "\n",
        "\n",
        "        plt.draw()\n",
        "        plt.pause(0.01)\n",
        "\n",
        "plt.show()\n"
      ],
      "metadata": {
        "id": "5ejyzQbDVsvh"
      },
      "execution_count": null,
      "outputs": []
    }
  ]
}